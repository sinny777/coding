{
 "cells": [
  {
   "cell_type": "markdown",
   "id": "cc9668ce-471e-4164-9ab4-aba0ef9ba996",
   "metadata": {},
   "source": [
    "# Class 1"
   ]
  },
  {
   "cell_type": "code",
   "execution_count": 3,
   "id": "cfc44e6f-7f88-4b83-b08d-db5a9ea8683c",
   "metadata": {},
   "outputs": [
    {
     "name": "stdout",
     "output_type": "stream",
     "text": [
      "n = 5\n"
     ]
    }
   ],
   "source": [
    "n = 5\n",
    "print('n =', n)"
   ]
  },
  {
   "cell_type": "code",
   "execution_count": null,
   "id": "191c326a-bb5d-48f5-800a-b9bf506e3bc1",
   "metadata": {},
   "outputs": [],
   "source": []
  }
 ],
 "metadata": {
  "kernelspec": {
   "display_name": "Python 3 (ipykernel)",
   "language": "python",
   "name": "python3"
  },
  "language_info": {
   "codemirror_mode": {
    "name": "ipython",
    "version": 3
   },
   "file_extension": ".py",
   "mimetype": "text/x-python",
   "name": "python",
   "nbconvert_exporter": "python",
   "pygments_lexer": "ipython3",
   "version": "3.10.2"
  }
 },
 "nbformat": 4,
 "nbformat_minor": 5
}
