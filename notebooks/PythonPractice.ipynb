{
 "cells": [
  {
   "cell_type": "markdown",
   "id": "82e59b33-4cc7-4039-9adf-b34debf1e0ad",
   "metadata": {},
   "source": [
    "# Python Coding Practice "
   ]
  },
  {
   "cell_type": "markdown",
   "id": "5e483b2d-d094-4b33-ab24-7808d5c54a52",
   "metadata": {},
   "source": [
    "## Variables"
   ]
  },
  {
   "cell_type": "code",
   "execution_count": 3,
   "id": "65f793f8-a7be-4518-a94a-58f3dc23c0c8",
   "metadata": {},
   "outputs": [
    {
     "name": "stdout",
     "output_type": "stream",
     "text": [
      "n = 0\n",
      "n = abc\n",
      "n = None\n"
     ]
    }
   ],
   "source": [
    "# Variables are dynamicly typed\n",
    "n = 0\n",
    "print('n =', n)\n",
    "# >>> n = 0\n",
    "\n",
    "n = \"abc\"\n",
    "print('n =', n)\n",
    "# >>> n = abc\n",
    "\n",
    "# Multiple assignments\n",
    "n, m = 0, \"abc\"\n",
    "n, m, z = 0.125, \"abc\", False\n",
    "\n",
    "# Increment\n",
    "n = n + 1 # good\n",
    "n += 1    # good\n",
    "# n++       # bad\n",
    "\n",
    "# None is null (absence of value)\n",
    "n = 4\n",
    "n = None\n",
    "print(\"n =\", n)\n",
    "# >>> n = None\n"
   ]
  },
  {
   "cell_type": "markdown",
   "id": "cb6781fb-27ae-467f-bfb5-097ab6302cb1",
   "metadata": {},
   "source": [
    "## If-statements"
   ]
  },
  {
   "cell_type": "code",
   "execution_count": 4,
   "id": "bb7de33a-44a7-4664-86f7-039c1d85f0a1",
   "metadata": {},
   "outputs": [],
   "source": [
    "# If statements don't need parentheses \n",
    "# or curly braces.\n",
    "n = 1\n",
    "if n > 2:\n",
    "    n -= 1\n",
    "elif n == 2:\n",
    "    n *= 2\n",
    "else:\n",
    "    n += 2\n",
    "\n",
    "# Parentheses needed for multi-line conditions.\n",
    "# and = &&\n",
    "# or  = ||\n",
    "n, m = 1, 2\n",
    "if ((n > 2 and \n",
    "    n != m) or n == m):\n",
    "    n += 1\n"
   ]
  },
  {
   "cell_type": "markdown",
   "id": "398dc3ca-3681-49c0-9dcd-7bb802208163",
   "metadata": {},
   "source": [
    "## Loops"
   ]
  },
  {
   "cell_type": "code",
   "execution_count": 5,
   "id": "4e4c8106-53d5-485d-a74c-11a56890fcd7",
   "metadata": {},
   "outputs": [
    {
     "name": "stdout",
     "output_type": "stream",
     "text": [
      "0\n",
      "1\n",
      "2\n",
      "3\n",
      "4\n",
      "2\n",
      "3\n",
      "4\n",
      "5\n",
      "5\n",
      "4\n",
      "3\n",
      "2\n"
     ]
    }
   ],
   "source": [
    "n = 5\n",
    "while n < 5:\n",
    "    print(n)\n",
    "    n += 1\n",
    "\n",
    "# Looping from i = 0 to i = 4\n",
    "for i in range(5):\n",
    "    print(i)\n",
    "\n",
    "# Looping from i = 2 to i = 5\n",
    "for i in range(2, 6):\n",
    "    print(i)\n",
    "\n",
    "# Looping from i = 5 to i = 2\n",
    "for i in range(5, 1, -1):\n",
    "    print(i)\n"
   ]
  },
  {
   "cell_type": "markdown",
   "id": "b33403f7-394b-4131-8444-2ce920948ecc",
   "metadata": {},
   "source": [
    "## Maths"
   ]
  },
  {
   "cell_type": "code",
   "execution_count": 6,
   "id": "f8ec3038-5910-45a0-86ee-202a09613138",
   "metadata": {},
   "outputs": [
    {
     "name": "stdout",
     "output_type": "stream",
     "text": [
      "2.5\n",
      "2\n",
      "-2\n",
      "-1\n",
      "1\n",
      "2\n",
      "-1.0\n",
      "1\n",
      "2\n",
      "1.4142135623730951\n",
      "8.0\n",
      "1.6069380442589903e+60\n",
      "True\n"
     ]
    }
   ],
   "source": [
    "# Division is decimal by default\n",
    "print(5 / 2)\n",
    "\n",
    "# Double slash rounds down\n",
    "print(5 // 2)\n",
    "\n",
    "# CAREFUL: most languages round towards 0 by default\n",
    "# So negative numbers will round down\n",
    "print(-3 // 2)\n",
    "\n",
    "# A workaround for rounding towards zero\n",
    "# is to use decimal division and then convert to int.\n",
    "print(int(-3 / 2))\n",
    "\n",
    "\n",
    "# Modding is similar to most languages\n",
    "print(10 % 3)\n",
    "\n",
    "# Except for negative values\n",
    "print(-10 % 3)\n",
    "\n",
    "# To be consistent with other languages modulo\n",
    "import math\n",
    "from multiprocessing import heap\n",
    "print(math.fmod(-10, 3))\n",
    "\n",
    "# More math helpers\n",
    "print(math.floor(3 / 2))\n",
    "print(math.ceil(3 / 2))\n",
    "print(math.sqrt(2))\n",
    "print(math.pow(2, 3))\n",
    "\n",
    "# Max / Min Int\n",
    "float(\"inf\")\n",
    "float(\"-inf\")\n",
    "\n",
    "# Python numbers are infinite so they never overflow\n",
    "print(math.pow(2, 200))\n",
    "\n",
    "# But still less than infinity\n",
    "print(math.pow(2, 200) < float(\"inf\"))\n"
   ]
  },
  {
   "cell_type": "markdown",
   "id": "6be34b5c-1fb6-4d5a-b631-1cf9b4a1011e",
   "metadata": {},
   "source": [
    "## Arrays"
   ]
  },
  {
   "cell_type": "code",
   "execution_count": 7,
   "id": "eced0c51-56ff-493c-b817-e0005441e41d",
   "metadata": {},
   "outputs": [
    {
     "name": "stdout",
     "output_type": "stream",
     "text": [
      "[1, 2, 3]\n",
      "[1, 2, 3, 4, 5]\n",
      "[1, 2, 3, 4]\n",
      "[1, 7, 2, 3, 4]\n",
      "[0, 7, 2, 0, 4]\n",
      "[1, 1, 1, 1, 1]\n",
      "5\n",
      "3\n",
      "2\n",
      "[2, 3]\n",
      "[1, 2, 3, 4]\n",
      "[1, 2, 3, 4]\n",
      "1 2 3\n",
      "1\n",
      "2\n",
      "3\n",
      "1\n",
      "2\n",
      "3\n",
      "0 1\n",
      "1 2\n",
      "2 3\n",
      "1 2\n",
      "3 4\n",
      "5 6\n",
      "[3, 2, 1]\n",
      "[3, 4, 5, 7, 8]\n",
      "[8, 7, 5, 4, 3]\n",
      "['alice', 'bob', 'doe', 'jane']\n",
      "['bob', 'doe', 'jane', 'alice']\n",
      "[0, 1, 2, 3, 4]\n",
      "[[0, 0, 0, 0], [0, 0, 0, 0], [0, 0, 0, 0], [0, 0, 0, 0]]\n",
      "0 0\n"
     ]
    }
   ],
   "source": [
    "# Arrays (called lists in python)\n",
    "arr = [1, 2, 3]\n",
    "print(arr)\n",
    "\n",
    "# Can be used as a stack\n",
    "arr.append(4)\n",
    "arr.append(5)\n",
    "print(arr)\n",
    "\n",
    "arr.pop()\n",
    "print(arr)\n",
    "\n",
    "arr.insert(1, 7)\n",
    "print(arr)\n",
    "\n",
    "arr[0] = 0\n",
    "arr[3] = 0\n",
    "print(arr)\n",
    "\n",
    "# Initialize arr of size n with default value of 1\n",
    "n = 5\n",
    "arr = [1] * n\n",
    "print(arr)\n",
    "print(len(arr))\n",
    "\n",
    "# Careful: -1 is not out of bounds, it's the last value\n",
    "arr = [1, 2, 3]\n",
    "print(arr[-1])\n",
    "\n",
    "# Indexing -2 is the second to last value, etc.\n",
    "print(arr[-2])\n",
    "\n",
    "# Sublists (aka slicing)\n",
    "arr = [1, 2, 3, 4]\n",
    "print(arr[1:3])\n",
    "\n",
    "# Similar to for-loop ranges, last index is non-inclusive\n",
    "print(arr[0:4])\n",
    "\n",
    "# But no out of bounds error\n",
    "print(arr[0:10])\n",
    "\n",
    "# Unpacking\n",
    "a, b, c = [1, 2, 3]\n",
    "print(a, b, c)\n",
    "\n",
    "# Be careful though\n",
    "# a, b = [1, 2, 3]\n",
    "\n",
    "# Loop through arrays\n",
    "nums = [1, 2, 3]\n",
    "\n",
    "# Using index\n",
    "for i in range(len(nums)):\n",
    "    print(nums[i])\n",
    "\n",
    "# Without index\n",
    "for n in nums:\n",
    "    print(n)\n",
    "\n",
    "# With index and value\n",
    "for i, n in enumerate(nums):\n",
    "    print(i, n)\n",
    "\n",
    "# Loop through multiple arrays simultaneously with unpacking\n",
    "nums1 = [1, 3, 5]\n",
    "nums2 = [2, 4, 6]\n",
    "for n1, n2 in zip(nums1, nums2):\n",
    "    print(n1, n2)\n",
    "\n",
    "# Reverse\n",
    "nums = [1, 2, 3]\n",
    "nums.reverse()\n",
    "print(nums)\n",
    "\n",
    "# Sorting\n",
    "arr = [5, 4, 7, 3, 8]\n",
    "arr.sort()\n",
    "print(arr)\n",
    "\n",
    "arr.sort(reverse=True)\n",
    "print(arr)\n",
    "\n",
    "arr = [\"bob\", \"alice\", \"jane\", \"doe\"]\n",
    "arr.sort()\n",
    "print(arr)\n",
    "\n",
    "# Custom sort (by length of string)\n",
    "arr.sort(key=lambda x: len(x))\n",
    "print(arr)\n",
    "\n",
    "\n",
    "# List comprehension\n",
    "arr = [i for i in range(5)]\n",
    "print(arr)\n",
    "\n",
    "# 2-D lists\n",
    "arr = [[0] * 4 for i in range(4)]\n",
    "print(arr)\n",
    "print(arr[0][0], arr[3][3])\n",
    "\n",
    "# This won't work\n",
    "# arr = [[0] * 4] * 4\n"
   ]
  },
  {
   "cell_type": "markdown",
   "id": "9992a110-d414-4ed3-bafa-f50aa93a5844",
   "metadata": {},
   "source": [
    "## Strings"
   ]
  },
  {
   "cell_type": "code",
   "execution_count": 8,
   "id": "9bbe75b3-da24-4f7c-ad81-09c64499554b",
   "metadata": {},
   "outputs": [
    {
     "name": "stdout",
     "output_type": "stream",
     "text": [
      "ab\n",
      "abcdef\n",
      "246\n",
      "123123\n",
      "97\n",
      "98\n",
      "abcdef\n"
     ]
    }
   ],
   "source": [
    "# Strings are similar to arrays\n",
    "s = \"abc\"\n",
    "print(s[0:2])\n",
    "\n",
    "# But they are immutable\n",
    "# s[0] = \"A\"\n",
    "\n",
    "# So this creates a new string\n",
    "s += \"def\"\n",
    "print(s)\n",
    "\n",
    "# Valid numeric strings can be converted\n",
    "print(int(\"123\") + int(\"123\"))\n",
    "\n",
    "# And numbers can be converted to strings\n",
    "print(str(123) + str(123))\n",
    "\n",
    "# In rare cases you may need the ASCII value of a char\n",
    "print(ord(\"a\"))\n",
    "print(ord(\"b\"))\n",
    "\n",
    "# Combine a list of strings (with an empty string delimitor)\n",
    "strings = [\"ab\", \"cd\", \"ef\"]\n",
    "print(\"\".join(strings))\n"
   ]
  }
 ],
 "metadata": {
  "kernelspec": {
   "display_name": "Python 3 (ipykernel)",
   "language": "python",
   "name": "python3"
  },
  "language_info": {
   "codemirror_mode": {
    "name": "ipython",
    "version": 3
   },
   "file_extension": ".py",
   "mimetype": "text/x-python",
   "name": "python",
   "nbconvert_exporter": "python",
   "pygments_lexer": "ipython3",
   "version": "3.10.2"
  }
 },
 "nbformat": 4,
 "nbformat_minor": 5
}
